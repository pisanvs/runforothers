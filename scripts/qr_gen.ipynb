{
 "cells": [
  {
   "cell_type": "code",
   "execution_count": null,
   "metadata": {},
   "outputs": [],
   "source": [
    "%pip install qrcode[pil] reportlab"
   ]
  },
  {
   "cell_type": "code",
   "execution_count": null,
   "metadata": {},
   "outputs": [],
   "source": [
    "import qrcode\n",
    "from reportlab.pdfgen import canvas\n",
    "from reportlab.lib.pagesizes import A4\n",
    "import tempfile\n",
    "import os\n",
    "\n",
    "def generate_pdf_with_qr(output_file, data_list, qr_size=200, page_size=A4):\n",
    "    \"\"\"\n",
    "    Generates a PDF with a QR code embedded.\n",
    "\n",
    "    Parameters:\n",
    "    - output_file (str): The filename of the resulting PDF.\n",
    "    - data_list (list): The data to encode in the QR code.\n",
    "    - qr_size (int): Size of the QR code in pixels (default 200x200).\n",
    "    - page_size (tuple): Size of the PDF page in points (default A4 595x842).\n",
    "    \"\"\"\n",
    "    c = canvas.Canvas(output_file, pagesize=page_size)\n",
    "    width, height = page_size\n",
    "\n",
    "    for qr_data in data_list:\n",
    "        # Generate the QR code\n",
    "        qr = qrcode.QRCode(\n",
    "            version=2,  # Controls the size of the QR code; higher version = more capacity\n",
    "            error_correction=qrcode.constants.ERROR_CORRECT_H,\n",
    "            box_size=23,\n",
    "            border=4,\n",
    "        )\n",
    "        qr.add_data(qr_data)\n",
    "        qr.make(fit=True)\n",
    "        qr_img = qr.make_image(fill_color=\"black\", back_color=\"white\")\n",
    "\n",
    "        # Save QR code to a temporary file\n",
    "        with tempfile.NamedTemporaryFile(delete=False, suffix=\".png\") as temp_file:\n",
    "            qr_img.save(temp_file.name)\n",
    "            temp_file_path = temp_file.name\n",
    "\n",
    "        try:\n",
    "            # Create the PDF\n",
    "            qr_x = (width - qr_size) / 2  # Center the QR code horizontally\n",
    "            qr_y = (height - qr_size) / 2  # Center the QR code vertically\n",
    "\n",
    "            # Draw the QR code on the PDF\n",
    "            c.drawImage(temp_file_path, qr_x, qr_y, qr_size, qr_size)\n",
    "\n",
    "            # Add some optional text below the QR code\n",
    "            c.drawCentredString(width / 2, qr_y - 20, \"ID: \" + str(qr_data))\n",
    "\n",
    "            c.showPage()\n",
    "        finally:\n",
    "            # Clean up the temporary file\n",
    "            os.remove(temp_file_path)\n",
    "    \n",
    "    # Save the PDF\n",
    "    c.save()\n",
    "    print(f\"PDF generated: {output_file}\")\n",
    "\n",
    "\n",
    "\n",
    "# Example usage\n",
    "generate_pdf_with_qr(\"qr_code_example.pdf\", [x for x in range(0,20)], qr_size=400)\n"
   ]
  },
  {
   "cell_type": "code",
   "execution_count": null,
   "metadata": {},
   "outputs": [],
   "source": [
    "# Clean\n",
    "\n",
    "os.remove(\"qr_code_example.pdf\")"
   ]
  },
  {
   "cell_type": "code",
   "execution_count": null,
   "metadata": {},
   "outputs": [],
   "source": []
  }
 ],
 "metadata": {
  "kernelspec": {
   "display_name": ".venv",
   "language": "python",
   "name": "python3"
  },
  "language_info": {
   "codemirror_mode": {
    "name": "ipython",
    "version": 3
   },
   "file_extension": ".py",
   "mimetype": "text/x-python",
   "name": "python",
   "nbconvert_exporter": "python",
   "pygments_lexer": "ipython3",
   "version": "3.12.7"
  }
 },
 "nbformat": 4,
 "nbformat_minor": 2
}
